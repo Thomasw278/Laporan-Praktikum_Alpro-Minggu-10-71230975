{
 "cells": [
  {
   "cell_type": "code",
   "execution_count": null,
   "id": "916c1fab",
   "metadata": {},
   "outputs": [],
   "source": [
    "nilai = [10,15,20,25,30,35,50,60]\n",
    "urutan = 1\n",
    "nilai.sort()\n",
    "for i in range (len(nilai), len(nilai)-3,-1):\n",
    "    print (f\"Nilai terbaik ke {urutan} adalah {nilai[i-1]}\")\n",
    "    urutan += 1"
   ]
  },
  {
   "cell_type": "code",
   "execution_count": null,
   "id": "f8b55342",
   "metadata": {},
   "outputs": [],
   "source": [
    "angka = []\n",
    "urutan = 1\n",
    "while True:\n",
    "    n = (input(f\"Masukkan Angka ke {urutan} [ Ketik 'done' untuk Selesai ] \\n >> \"))\n",
    "    if n == \"done\":\n",
    "        break\n",
    "    elif n.isalpha():\n",
    "        urutan += 1\n",
    "        continue\n",
    "    else:\n",
    "        N = int(n)\n",
    "        angka.append(N)\n",
    "        urutan += 1\n",
    "print(f\"Nilai Maksimum dari Deretan Angka adalah {max(angka)}\")\n",
    "print(f\"Nilai Minimum dari Deretan Angka  adalah {min(angka)}\")"
   ]
  },
  {
   "cell_type": "code",
   "execution_count": null,
   "id": "2aef57e5",
   "metadata": {},
   "outputs": [],
   "source": [
    "with open(\"Berita12.txt\", \"r\") as text1:\n",
    "    baca = text1.read()\n",
    "baca_per_index = baca.split(\".\")\n",
    "liste = []\n",
    "for i in baca_per_index:\n",
    "    i = i.strip().split()\n",
    "    liste.extend(list(i))\n",
    "print(\"===== ISI BERITA =====\")\n",
    "print(baca, \"\\n\")\n",
    "print(\"===== KATA UNIK =====\")\n",
    "print(liste, '\\n')"
   ]
  }
 ],
 "metadata": {
  "kernelspec": {
   "display_name": "Python 3 (ipykernel)",
   "language": "python",
   "name": "python3"
  },
  "language_info": {
   "codemirror_mode": {
    "name": "ipython",
    "version": 3
   },
   "file_extension": ".py",
   "mimetype": "text/x-python",
   "name": "python",
   "nbconvert_exporter": "python",
   "pygments_lexer": "ipython3",
   "version": "3.11.5"
  }
 },
 "nbformat": 4,
 "nbformat_minor": 5
}
